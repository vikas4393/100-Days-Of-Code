{
 "cells": [
  {
   "cell_type": "code",
   "execution_count": 3,
   "id": "15aa40e3",
   "metadata": {},
   "outputs": [
    {
     "name": "stdout",
     "output_type": "stream",
     "text": [
      "Area of rectangle of Length 20 and Width 10 : 200\n"
     ]
    }
   ],
   "source": [
    "# Write a Python program to calculate the area of a rectangle given its length and width.\n",
    "\n",
    "length = 20\n",
    "width = 10\n",
    "\n",
    "def area_of_rectangle(l,w):\n",
    "    return l*w\n",
    "\n",
    "area = area_of_rectangle(length,width)\n",
    "\n",
    "print(f\"Area of rectangle of Length {length} and Width {width} : {area}\")"
   ]
  },
  {
   "cell_type": "code",
   "execution_count": 4,
   "id": "0c5eabf2",
   "metadata": {},
   "outputs": [
    {
     "name": "stdout",
     "output_type": "stream",
     "text": [
      "Enter your Name & Age: Vikas 30\n",
      "Hello Vikas. Nice to meet you.\n"
     ]
    }
   ],
   "source": [
    "# Create a program that takes a user's name and age as input and prints a greeting message.\n",
    "\n",
    "def user_info():\n",
    "    name,age = input(\"Enter your Name & Age: \").split()\n",
    "    print(f\"Hello {name}. Nice to meet you.\")\n",
    "\n",
    "user_info()"
   ]
  },
  {
   "cell_type": "code",
   "execution_count": 5,
   "id": "ee22949b",
   "metadata": {},
   "outputs": [
    {
     "name": "stdout",
     "output_type": "stream",
     "text": [
      "Enter a number: 15\n",
      "The number 15 is odd.\n"
     ]
    }
   ],
   "source": [
    "# Write a program to check if a number is even or odd\n",
    "\n",
    "def even_odd(num):\n",
    "    if (num % 2) == 0:\n",
    "        print(f'The number {num} is even.')\n",
    "    else:\n",
    "        print(f'The number {num} is odd.')\n",
    "\n",
    "number = int(input(\"Enter a number: \"))\n",
    "even_odd(number)"
   ]
  },
  {
   "cell_type": "code",
   "execution_count": 6,
   "id": "98c0892c",
   "metadata": {},
   "outputs": [
    {
     "name": "stdout",
     "output_type": "stream",
     "text": [
      "Maximum value is: 77\n",
      "Minimum value is: 2\n",
      "Maximum value is: 77\n",
      "Minimum value is: 2\n"
     ]
    }
   ],
   "source": [
    "# Given a list of numbers, find the maximum and minimum values\n",
    "\n",
    "lst = [10,5,8,2,75,3,4,77,6,55,44]\n",
    "\n",
    "def find_max(lst):\n",
    "    max = lst[0]\n",
    "    for item in lst:\n",
    "        if item > max:\n",
    "            max = item\n",
    "    return max\n",
    "\n",
    "def find_min(lst):\n",
    "    min = lst[0]\n",
    "    for item in lst:\n",
    "        if item < min:\n",
    "            min = item\n",
    "    return min\n",
    "\n",
    "print(\"Maximum value is:\",find_max(lst))\n",
    "print(\"Minimum value is:\",find_min(lst))\n",
    "\n",
    "# alternate\n",
    "lst = [10,5,8,2,75,3,4,77,6,55,44]\n",
    "lst.sort()\n",
    "\n",
    "print(\"Maximum value is:\",lst[-1])\n",
    "print(\"Minimum value is:\",lst[0])"
   ]
  },
  {
   "cell_type": "code",
   "execution_count": 7,
   "id": "00373793",
   "metadata": {},
   "outputs": [
    {
     "name": "stdout",
     "output_type": "stream",
     "text": [
      "Enter a string: tot\n",
      "The string tot is palindrome.\n"
     ]
    }
   ],
   "source": [
    "# Create a Python function to check if a given string is a palindrome\n",
    "\n",
    "def palindrome(string):\n",
    "    if string == string[::-1]:\n",
    "        print(f'The string {string} is palindrome.')\n",
    "    else:\n",
    "        print(f'The string {string} is not palindrome.')\n",
    "\n",
    "string = str(input(\"Enter a string: \"))\n",
    "palindrome(string)"
   ]
  },
  {
   "cell_type": "code",
   "execution_count": 8,
   "id": "72d9bcc5",
   "metadata": {},
   "outputs": [
    {
     "name": "stdout",
     "output_type": "stream",
     "text": [
      "5386.239549000005\n"
     ]
    }
   ],
   "source": [
    "# Calculate the compound interest for a given principal amount, interest rate, and time period.\n",
    "\n",
    "principal = 10000\n",
    "interest_rate = 9\n",
    "time_period = 5\n",
    "\n",
    "def compound_intrest(p,r,n):\n",
    "    amount = p*(1 + r/100)**n - p\n",
    "    return amount\n",
    "\n",
    "amount = compound_intrest(principal,interest_rate,time_period)\n",
    "print(amount)"
   ]
  },
  {
   "cell_type": "code",
   "execution_count": 10,
   "id": "3f4e619a",
   "metadata": {},
   "outputs": [
    {
     "name": "stdout",
     "output_type": "stream",
     "text": [
      "Enter the sentence:Go Goa Gone\n",
      "Number of words in this sentence are: 3\n",
      "3\n"
     ]
    }
   ],
   "source": [
    "# Create a program that takes a sentence as input and counts the number of words in it\n",
    "\n",
    "sen = str(input(\"Enter the sentence:\"))\n",
    "\n",
    "def count(sen):\n",
    "    wordcount=0\n",
    "    for i in sen:\n",
    "        if i == ' ':\n",
    "            wordcount += 1\n",
    "    return wordcount + 1\n",
    "\n",
    "count = count(sen)\n",
    "print(f\"Number of words in this sentence are: {count}\")\n",
    "\n",
    "#alternate\n",
    "\n",
    "print(len(sen.split()))"
   ]
  },
  {
   "cell_type": "code",
   "execution_count": 11,
   "id": "49cb7f0d",
   "metadata": {},
   "outputs": [
    {
     "name": "stdout",
     "output_type": "stream",
     "text": [
      "5 Goat\n",
      "Goat 5\n"
     ]
    }
   ],
   "source": [
    "# Implement a program that swaps the values of two variables\n",
    "\n",
    "a = 5\n",
    "b = 'Goat'\n",
    "print(a,b)\n",
    "\n",
    "a,b = b,a\n",
    "print(a,b)"
   ]
  },
  {
   "cell_type": "code",
   "execution_count": null,
   "id": "c2f110c9",
   "metadata": {},
   "outputs": [],
   "source": []
  }
 ],
 "metadata": {
  "kernelspec": {
   "display_name": "Python 3 (ipykernel)",
   "language": "python",
   "name": "python3"
  },
  "language_info": {
   "codemirror_mode": {
    "name": "ipython",
    "version": 3
   },
   "file_extension": ".py",
   "mimetype": "text/x-python",
   "name": "python",
   "nbconvert_exporter": "python",
   "pygments_lexer": "ipython3",
   "version": "3.11.5"
  }
 },
 "nbformat": 4,
 "nbformat_minor": 5
}
