{
 "cells": [
  {
   "cell_type": "code",
   "execution_count": 22,
   "metadata": {},
   "outputs": [
    {
     "name": "stdout",
     "output_type": "stream",
     "text": [
      "3\n"
     ]
    }
   ],
   "source": [
    "#binary search\n",
    "# in binary search we compare the value of key with mid of the array\n",
    "# so the array should be sorted\n",
    "\n",
    "arr = [1,2,3,4,5,6,7,8,9]\n",
    "\n",
    "def bin_search(arr,low,high,key):\n",
    "    if high >= low:\n",
    "        mid = (high + low) // 2\n",
    "        \n",
    "        if arr[mid] == key:\n",
    "            return mid\n",
    "        \n",
    "        elif arr[mid] > key:\n",
    "            return bin_search(arr,low,mid-1,key)\n",
    "        \n",
    "        else:\n",
    "            return bin_search(arr,mid+1,high,key)\n",
    "        \n",
    "    else:\n",
    "        return -1\n",
    "\n",
    "found_at = bin_search(arr,0,len(arr)-1,4)\n",
    "print(found_at)"
   ]
  }
 ],
 "metadata": {
  "kernelspec": {
   "display_name": "Python 3",
   "language": "python",
   "name": "python3"
  },
  "language_info": {
   "codemirror_mode": {
    "name": "ipython",
    "version": 3
   },
   "file_extension": ".py",
   "mimetype": "text/x-python",
   "name": "python",
   "nbconvert_exporter": "python",
   "pygments_lexer": "ipython3",
   "version": "3.11.0"
  }
 },
 "nbformat": 4,
 "nbformat_minor": 2
}
