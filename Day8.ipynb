{
 "cells": [
  {
   "cell_type": "code",
   "execution_count": 1,
   "metadata": {},
   "outputs": [
    {
     "name": "stdout",
     "output_type": "stream",
     "text": [
      "Not Palindrome\n",
      "Palindrome\n"
     ]
    }
   ],
   "source": [
    "# Question 1: Write a Python program to check if a string is a palindrome.\n",
    "\n",
    "def check_palindrome(x):\n",
    "    if x == x[::-1]:\n",
    "        return 'Palindrome'\n",
    "    else:\n",
    "        return 'Not Palindrome'\n",
    "\n",
    "print(check_palindrome('inox'))\n",
    "print(check_palindrome('asdsa'))"
   ]
  },
  {
   "cell_type": "code",
   "execution_count": 1,
   "metadata": {},
   "outputs": [
    {
     "name": "stdout",
     "output_type": "stream",
     "text": [
      "120\n",
      "24\n",
      "120\n",
      "24\n"
     ]
    }
   ],
   "source": [
    "\n",
    "# Question 2: Write a Python program to find the factorial of a number.\n",
    "\n",
    "def fact(x):\n",
    "    result = 1\n",
    "    for i in range(1,x+1):\n",
    "        result = result * i\n",
    "    return result\n",
    "\n",
    "print(fact(5))\n",
    "print(fact(4))\n",
    "\n",
    "# ====================================================\n",
    "# using recursion\n",
    "\n",
    "def facto(x):\n",
    "    if x == 0:\n",
    "        return 1\n",
    "    else:\n",
    "        return x * facto(x-1)\n",
    "\n",
    "print(facto(5))\n",
    "print(facto(4))"
   ]
  },
  {
   "cell_type": "code",
   "execution_count": 3,
   "metadata": {},
   "outputs": [
    {
     "name": "stdout",
     "output_type": "stream",
     "text": [
      "Largest Element:  22\n",
      "Largest Element:  22\n"
     ]
    }
   ],
   "source": [
    "# Question 3: Write a Python program to find the largest element in a list.\n",
    "\n",
    "def largest(x):\n",
    "    x.sort()\n",
    "    return x[-1]\n",
    "\n",
    "print('Largest Element: ', largest([4,3,6,9,3,22,7,6,22,4,9,1]))\n",
    "\n",
    "# =========================================================\n",
    "\n",
    "def Largest(x):\n",
    "    larger = x[0]\n",
    "    for i in range(len(x)):\n",
    "        if x[i] > larger:\n",
    "            larger = x[i]\n",
    "    return larger\n",
    "\n",
    "print('Largest Element: ', Largest([4,3,6,9,3,22,7,6,22,4,9,1]))"
   ]
  },
  {
   "cell_type": "code",
   "execution_count": 4,
   "metadata": {},
   "outputs": [
    {
     "name": "stdout",
     "output_type": "stream",
     "text": [
      "tIteGoG\n",
      "enoGaoGoG\n",
      "oDuoYrevEtahW\n"
     ]
    }
   ],
   "source": [
    "# Question 4: Write a Python program to reverse a string.\n",
    "def rev_string(x):\n",
    "    return x[::-1] \n",
    "\n",
    "print(rev_string('GoGetIt'))\n",
    "\n",
    "# =========================================================\n",
    "# using for loop\n",
    "def str_rev(x):\n",
    "    n = len(x)\n",
    "    lst = []\n",
    "    for i in range(n):\n",
    "        lst.append(x[n-1])\n",
    "        n -= 1\n",
    "    return ''.join(lst)\n",
    "\n",
    "print(str_rev('GoGoaGone'))\n",
    "\n",
    "# =========================================================\n",
    "# using while loop\n",
    "\n",
    "def str_rev_using_while(x):\n",
    "    n = len(x)\n",
    "    lst = []\n",
    "    while n != 0:\n",
    "        lst.append(x[n-1])\n",
    "        n -= 1\n",
    "    return ''.join(lst)\n",
    "\n",
    "print(str_rev_using_while('WhatEverYouDo'))"
   ]
  },
  {
   "cell_type": "code",
   "execution_count": 5,
   "metadata": {},
   "outputs": [
    {
     "name": "stdout",
     "output_type": "stream",
     "text": [
      "{'f': 2, 'h': 2, 4: 3, 7: 1}\n",
      "{'f': 4, 'g': 3, 'h': 2, 'w': 2, 'a': 1}\n",
      "{2: 2, 3: 1, 4: 3}\n"
     ]
    }
   ],
   "source": [
    "# Question 5: Write a Python program to count the frequency of each element in any iterable.\n",
    "\n",
    "def freq_count(x):\n",
    "    count = {}\n",
    "    for ele in x:\n",
    "        if ele in count:\n",
    "            count[ele] += 1\n",
    "        else:\n",
    "            count[ele] = 1\n",
    "    return count\n",
    "\n",
    "lst3 = ['f','h',4,7,4,4,'f','h']\n",
    "print(freq_count(lst3))\n",
    "\n",
    "# =========================================================\n",
    "# using list count() method\n",
    "\n",
    "def Freq_Count(x):\n",
    "    count = {}\n",
    "    for ele in x:\n",
    "        count[ele] = x.count(ele)\n",
    "    return count\n",
    "    \n",
    "   \n",
    "string = 'ffffggghhwwa'\n",
    "print(Freq_Count(string))\n",
    "\n",
    "# =========================================================\n",
    "# using dict get() method\n",
    "\n",
    "def Freq_count(x):\n",
    "    count = {}\n",
    "    for ele in x:\n",
    "        count[ele] = count.get(ele,0)+1  # in get method we can provide exception value if a value is not present for some key i.e. 0 here\n",
    "    return count\n",
    "\n",
    "tup = (2,2,3,4,4,4)\n",
    "print(Freq_count(tup))"
   ]
  }
 ],
 "metadata": {
  "kernelspec": {
   "display_name": "Python 3",
   "language": "python",
   "name": "python3"
  },
  "language_info": {
   "codemirror_mode": {
    "name": "ipython",
    "version": 3
   },
   "file_extension": ".py",
   "mimetype": "text/x-python",
   "name": "python",
   "nbconvert_exporter": "python",
   "pygments_lexer": "ipython3",
   "version": "3.11.0"
  }
 },
 "nbformat": 4,
 "nbformat_minor": 2
}
