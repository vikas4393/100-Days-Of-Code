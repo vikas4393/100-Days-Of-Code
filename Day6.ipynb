{
 "cells": [
  {
   "cell_type": "code",
   "execution_count": 12,
   "metadata": {},
   "outputs": [
    {
     "name": "stdout",
     "output_type": "stream",
     "text": [
      "5\n",
      "[3, 1, 3]\n",
      "[8, 5, 7, 9]\n",
      "3\n",
      "[1]\n",
      "[3]\n",
      "8\n",
      "[5, 7]\n",
      "[9]\n",
      "5\n",
      "[]\n",
      "[7]\n",
      "[1, 3, 3, 5, 5, 7, 8, 9]\n"
     ]
    }
   ],
   "source": [
    "# quicksort\n",
    "\n",
    "def quick_sort(lst):\n",
    "    if len(lst) <= 1:\n",
    "        return lst\n",
    "    else:\n",
    "        pivot = lst[0]\n",
    "        left = [x for x in lst[1:] if x < pivot]\n",
    "        right = [x for x in lst[1:] if x >= pivot]\n",
    "        # below code is just to understand\n",
    "        print(pivot)\n",
    "        print(left)\n",
    "        print(right)\n",
    "        \n",
    "        return quick_sort(left) + [pivot] + quick_sort(right)\n",
    "\n",
    "arr = [5,3,8,5,1,7,9,3]\n",
    "\n",
    "print(quick_sort(arr))"
   ]
  },
  {
   "cell_type": "code",
   "execution_count": 19,
   "metadata": {},
   "outputs": [
    {
     "name": "stdout",
     "output_type": "stream",
     "text": [
      "[4, 7]\n"
     ]
    }
   ],
   "source": [
    "# linear search\n",
    "\n",
    "def lin_search(lst,find):\n",
    "    found_at = []\n",
    "    for x in range(len(lst)):\n",
    "        if lst[x] == find:\n",
    "            found_at.append(x)\n",
    "    return found_at\n",
    "\n",
    "arr = [3,2,5,6,7,4,3,7,9]\n",
    "search_index = lin_search(arr,7)\n",
    "\n",
    "print(search_index)"
   ]
  },
  {
   "cell_type": "code",
   "execution_count": 20,
   "metadata": {},
   "outputs": [
    {
     "name": "stdout",
     "output_type": "stream",
     "text": [
      "[4, 7]\n"
     ]
    }
   ],
   "source": [
    "# using list comprehension\n",
    "\n",
    "arr = [3,2,5,6,7,4,3,7,9]\n",
    "key = 7\n",
    "found_at  = [x for x in range(len(arr)) if arr[x] == key]\n",
    "print(found_at)"
   ]
  },
  {
   "cell_type": "code",
   "execution_count": null,
   "metadata": {},
   "outputs": [],
   "source": []
  }
 ],
 "metadata": {
  "kernelspec": {
   "display_name": "Python 3",
   "language": "python",
   "name": "python3"
  },
  "language_info": {
   "codemirror_mode": {
    "name": "ipython",
    "version": 3
   },
   "file_extension": ".py",
   "mimetype": "text/x-python",
   "name": "python",
   "nbconvert_exporter": "python",
   "pygments_lexer": "ipython3",
   "version": "3.11.0"
  }
 },
 "nbformat": 4,
 "nbformat_minor": 2
}
