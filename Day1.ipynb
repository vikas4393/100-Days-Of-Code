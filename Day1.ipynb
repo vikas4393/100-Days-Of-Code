{
 "cells": [
  {
   "cell_type": "code",
   "execution_count": 1,
   "id": "ce4ae7d8",
   "metadata": {},
   "outputs": [],
   "source": [
    "# Detect outliers using inter quantile method (IQR method)"
   ]
  },
  {
   "cell_type": "code",
   "execution_count": 2,
   "id": "10959969",
   "metadata": {},
   "outputs": [
    {
     "name": "stdout",
     "output_type": "stream",
     "text": [
      "Outliers from IQR method:[15, 20]\n"
     ]
    }
   ],
   "source": [
    "import numpy as np\n",
    "\n",
    "sample = [2,8,4,6,3,9,4,7,9,8,4,2,6,7,3,5,15,20]\n",
    "outliers = []\n",
    "\n",
    "def detect_outliers_IQR(data):\n",
    "    data = sorted(data)\n",
    "    q1 = np.percentile(data,25)\n",
    "    q3 = np.percentile(data,75)\n",
    "    IQR = q3 - q1\n",
    "    lower = q1 - (1.5 * IQR)\n",
    "    higher = q3 + (1.5 * IQR)\n",
    "    for i in data:\n",
    "        if i < lower or i > higher:\n",
    "            outliers.append(i)\n",
    "    return outliers\n",
    "outliers_IQR = detect_outliers_IQR(sample)\n",
    "print(f'Outliers from IQR method:{outliers_IQR}')"
   ]
  },
  {
   "cell_type": "code",
   "execution_count": null,
   "id": "bf4413b9",
   "metadata": {},
   "outputs": [],
   "source": []
  }
 ],
 "metadata": {
  "kernelspec": {
   "display_name": "Python 3 (ipykernel)",
   "language": "python",
   "name": "python3"
  },
  "language_info": {
   "codemirror_mode": {
    "name": "ipython",
    "version": 3
   },
   "file_extension": ".py",
   "mimetype": "text/x-python",
   "name": "python",
   "nbconvert_exporter": "python",
   "pygments_lexer": "ipython3",
   "version": "3.11.5"
  }
 },
 "nbformat": 4,
 "nbformat_minor": 5
}
