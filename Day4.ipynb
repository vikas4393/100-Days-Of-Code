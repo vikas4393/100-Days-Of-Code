{
 "cells": [
  {
   "cell_type": "code",
   "execution_count": 1,
   "id": "d8a3d9b3",
   "metadata": {},
   "outputs": [
    {
     "name": "stdout",
     "output_type": "stream",
     "text": [
      "Enter number of days:1560\n",
      "4:Years 14:Weeks 2:Days\n"
     ]
    }
   ],
   "source": [
    "# Write a program that converts a given number of days into years, weeks, and days\n",
    "days = int(input(\"Enter number of days:\"))\n",
    "\n",
    "def convert(days):\n",
    "    years = int(days / 365)\n",
    "    weeks = int((days % 365) / 7)\n",
    "    days = int((days % 365) % 7)\n",
    "    return years,weeks,days\n",
    "\n",
    "y,w,d = convert(days)\n",
    "print(f\"{y}:Years {w}:Weeks {d}:Days\")"
   ]
  },
  {
   "cell_type": "code",
   "execution_count": 2,
   "id": "c2bd7104",
   "metadata": {},
   "outputs": [
    {
     "name": "stdout",
     "output_type": "stream",
     "text": [
      "Sum of positive numbers in list: 15\n",
      "Sum of positive numbers in list: 15\n"
     ]
    }
   ],
   "source": [
    "# Given a list of integers, find the sum of all positive numbers.\n",
    "lst = [1,3,-4,5,-3,-5,6]\n",
    "\n",
    "def SumOfList(lst):\n",
    "    sum = 0\n",
    "    for ele in lst:\n",
    "        if ele > 0:\n",
    "            sum = sum + ele\n",
    "    return sum\n",
    "\n",
    "print(\"Sum of positive numbers in list:\", SumOfList(lst))\n",
    "\n",
    "# Alternate\n",
    "listsum = 0\n",
    "listsum = sum([listsum + ele for ele in lst if ele > 0])\n",
    "print(\"Sum of positive numbers in list:\", listsum)"
   ]
  },
  {
   "cell_type": "code",
   "execution_count": 3,
   "id": "9df6e3fb",
   "metadata": {},
   "outputs": [
    {
     "name": "stdout",
     "output_type": "stream",
     "text": [
      "Sum is 16 and average is 2.6666666666666665\n",
      "Sum is 16 and average is 2.6666666666666665\n"
     ]
    }
   ],
   "source": [
    "# Given a list of numbers, find the sum and average\n",
    "lst = [1,2,3,4,5,1]\n",
    "\n",
    "def find_sum_avg(lst):\n",
    "    summ = 0\n",
    "    for num in lst:\n",
    "        summ = summ + num\n",
    "        \n",
    "    avg = summ / len(lst)\n",
    "    return summ,avg\n",
    "\n",
    "x,y = find_sum_avg(lst)\n",
    "print(f'Sum is {x} and average is {y}')\n",
    "\n",
    "# Alternate\n",
    "print(f'Sum is {sum(lst)} and average is {sum(lst)/len(lst)}')"
   ]
  },
  {
   "cell_type": "code",
   "execution_count": 4,
   "id": "3033f730",
   "metadata": {},
   "outputs": [
    {
     "name": "stdout",
     "output_type": "stream",
     "text": [
      "Enter the temperature in celsius:33\n",
      "Temperature is 91.4F or 306.15K\n"
     ]
    }
   ],
   "source": [
    "# Create a program that takes a temperature in Celsius and converts it to Kelvin & Fahrenheit\n",
    "\n",
    "temp = float(input(\"Enter the temperature in celsius:\"))\n",
    "\n",
    "def convert(temp):\n",
    "    f = (temp * 9/5) + 32\n",
    "    k = temp + 273.15\n",
    "    return f,k\n",
    "f,k = convert(temp)\n",
    "print(f'Temperature is {f}F or {k}K')"
   ]
  },
  {
   "cell_type": "code",
   "execution_count": 5,
   "id": "4b716fd3",
   "metadata": {},
   "outputs": [
    {
     "name": "stdout",
     "output_type": "stream",
     "text": [
      "xelpmoC\n"
     ]
    }
   ],
   "source": [
    "# Create a function to reverse a given string\n",
    "\n",
    "string = \"Complex\"\n",
    "print(string[::-1])"
   ]
  },
  {
   "cell_type": "code",
   "execution_count": 6,
   "id": "764c0835",
   "metadata": {},
   "outputs": [
    {
     "name": "stdout",
     "output_type": "stream",
     "text": [
      "India mein to moye moye chal raha \n",
      "India mein to moye moye chal raha\n"
     ]
    }
   ],
   "source": [
    "# Given a list of names, concatenate them into a single string separated by spaces\n",
    "\n",
    "lst = ['India','mein','to','moye','moye','chal','raha']\n",
    "\n",
    "def to_string(lst):\n",
    "    string = ''\n",
    "    for item in lst:\n",
    "        string += item +' '\n",
    "    return string\n",
    "\n",
    "string = to_string(lst)\n",
    "print(string)\n",
    "\n",
    "# Alternate\n",
    "string1 = ' '.join(lst)\n",
    "print(string1)"
   ]
  },
  {
   "cell_type": "code",
   "execution_count": null,
   "id": "dee3d401",
   "metadata": {},
   "outputs": [],
   "source": []
  }
 ],
 "metadata": {
  "kernelspec": {
   "display_name": "Python 3 (ipykernel)",
   "language": "python",
   "name": "python3"
  },
  "language_info": {
   "codemirror_mode": {
    "name": "ipython",
    "version": 3
   },
   "file_extension": ".py",
   "mimetype": "text/x-python",
   "name": "python",
   "nbconvert_exporter": "python",
   "pygments_lexer": "ipython3",
   "version": "3.11.5"
  }
 },
 "nbformat": 4,
 "nbformat_minor": 5
}
