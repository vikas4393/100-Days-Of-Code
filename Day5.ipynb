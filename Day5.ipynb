{
 "cells": [
  {
   "cell_type": "code",
   "execution_count": 32,
   "id": "0c9df642",
   "metadata": {},
   "outputs": [
    {
     "name": "stdout",
     "output_type": "stream",
     "text": [
      "i=0\n",
      "j=0\n",
      "list :[2, 4, 6, 8, 1]\n",
      "i=0\n",
      "j=3\n",
      "list :[2, 4, 6, 1, 8]\n",
      "i=1\n",
      "j=2\n",
      "list :[2, 4, 1, 6, 8]\n",
      "i=2\n",
      "j=1\n",
      "list :[2, 1, 4, 6, 8]\n",
      "i=3\n",
      "j=0\n",
      "list :[1, 2, 4, 6, 8]\n",
      "Final Sorted List:[1, 2, 4, 6, 8]\n"
     ]
    }
   ],
   "source": [
    "# Sorting\n",
    "# 1 bubble_sort\n",
    "\n",
    "def bubble_sort(ls):\n",
    "    for i in range(len(ls)):\n",
    "        for j in range(0,len(ls)-i-1):\n",
    "            if ls[j] > ls[j+1]:\n",
    "                ls[j],ls[j+1]=ls[j+1],ls[j]\n",
    "                print(f'{i=}')\n",
    "                print(f'{j=}')\n",
    "                print(f'list :{ls}')\n",
    "    return(ls)\n",
    "\n",
    "lst = [4,2,6,8,1]\n",
    "\n",
    "sorted_lst = bubble_sort(lst)\n",
    "print(f'Final Sorted List:{sorted_lst}')"
   ]
  },
  {
   "cell_type": "code",
   "execution_count": 33,
   "id": "6c5dc5f1",
   "metadata": {},
   "outputs": [
    {
     "name": "stdout",
     "output_type": "stream",
     "text": [
      "i=0\n",
      "j=4\n",
      "list :[1, 4, 6, 8, 2]\n",
      "i=1\n",
      "j=4\n",
      "list :[1, 2, 6, 8, 4]\n",
      "i=2\n",
      "j=4\n",
      "list :[1, 2, 4, 8, 6]\n",
      "i=3\n",
      "j=4\n",
      "list :[1, 2, 4, 6, 8]\n",
      "Final Sorted List:[1, 2, 4, 6, 8]\n"
     ]
    }
   ],
   "source": [
    "# selection sort\n",
    "def selection_sort(ls):\n",
    "    for i in range(len(ls)):\n",
    "        min_index=i\n",
    "        for j in range(i+1,len(ls)):\n",
    "            if ls[j] < ls[min_index]:\n",
    "                ls[j],ls[min_index]=ls[min_index],ls[j]\n",
    "                \n",
    "                print(f'{i=}')\n",
    "                print(f'{j=}')\n",
    "                print(f'list :{ls}')\n",
    "    return(ls)\n",
    "\n",
    "lst = [2,4,6,8,1]\n",
    "sorted_lst = selection_sort(lst)\n",
    "print(f'Final Sorted List:{sorted_lst}')"
   ]
  },
  {
   "cell_type": "code",
   "execution_count": null,
   "id": "dc753456",
   "metadata": {},
   "outputs": [],
   "source": []
  }
 ],
 "metadata": {
  "kernelspec": {
   "display_name": "Python 3 (ipykernel)",
   "language": "python",
   "name": "python3"
  },
  "language_info": {
   "codemirror_mode": {
    "name": "ipython",
    "version": 3
   },
   "file_extension": ".py",
   "mimetype": "text/x-python",
   "name": "python",
   "nbconvert_exporter": "python",
   "pygments_lexer": "ipython3",
   "version": "3.11.5"
  }
 },
 "nbformat": 4,
 "nbformat_minor": 5
}
