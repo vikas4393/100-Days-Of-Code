{
 "cells": [
  {
   "cell_type": "code",
   "execution_count": null,
   "metadata": {},
   "outputs": [],
   "source": [
    "Question 6: Write a Python program to check if a number is prime.\n",
    "Question 7: Write a Python program to find the common elements between two lists.\n",
    "Question 8: Write a Python program to sort a list of elements using the bubble sort algorithm.\n",
    "Question 9: Write a Python program to find the second largest number in a list.\n",
    "Question 10: Write a Python program to remove duplicates from a list."
   ]
  }
 ],
 "metadata": {
  "language_info": {
   "name": "python"
  }
 },
 "nbformat": 4,
 "nbformat_minor": 2
}
