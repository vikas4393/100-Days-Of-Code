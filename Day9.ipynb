{
 "cells": [
  {
   "cell_type": "code",
   "execution_count": 43,
   "metadata": {},
   "outputs": [
    {
     "name": "stdout",
     "output_type": "stream",
     "text": [
      "1 is not prime\n",
      "2 is prime\n",
      "3 is prime\n",
      "4 is not prime\n",
      "5 is prime\n",
      "6 is not prime\n",
      "7 is prime\n",
      "8 is not prime\n",
      "9 is not prime\n"
     ]
    }
   ],
   "source": [
    "# Question 6: Write a Python program to check if a number is prime.\n",
    "\n",
    "def is_prime(num):\n",
    "    if num < 2:\n",
    "        return False\n",
    "    else:\n",
    "        for i in range(2,(num//2)+1):\n",
    "            if num % i == 0:\n",
    "                return False\n",
    "        return True\n",
    "\n",
    "for i in range(1,10):\n",
    "    if is_prime(i) == True:\n",
    "        print(i, 'is prime')\n",
    "    else:\n",
    "        print(i, 'is not prime')"
   ]
  },
  {
   "cell_type": "code",
   "execution_count": 44,
   "metadata": {},
   "outputs": [
    {
     "name": "stdout",
     "output_type": "stream",
     "text": [
      "{1, 2, 5, 7}\n"
     ]
    }
   ],
   "source": [
    "# Question 7: Write a Python program to find the common elements between two lists.\n",
    "# --> if the lists have duplicate elements we can use set.add() to get unique common elements\n",
    "# --> if the lists does not have duplicate elements we can use list.append() to get common elements\n",
    "\n",
    "def find_common(lst1,lst2):\n",
    "    res = set()\n",
    "    for i in lst1:\n",
    "        for j in lst2:\n",
    "            if i == j:\n",
    "                res.add(j)\n",
    "    return res\n",
    "\n",
    "a = [1,2,7,8,5,9,12]\n",
    "b = [4,5,6,7,3,4,5,2,1]\n",
    "\n",
    "print(find_common(a,b))"
   ]
  },
  {
   "cell_type": "code",
   "execution_count": 45,
   "metadata": {},
   "outputs": [
    {
     "name": "stdout",
     "output_type": "stream",
     "text": [
      "[0, 1, 3, 3, 4, 4, 5, 6, 6, 6, 7, 8, 9]\n"
     ]
    }
   ],
   "source": [
    "# Question 8: Write a Python program to sort a list of elements using the bubble sort algorithm.\n",
    "\n",
    "def bub_sort(lst):\n",
    "    for j in range(len(lst)):\n",
    "        for i in range(len(lst)-j-1):\n",
    "                if lst[i] > lst[i+1]:\n",
    "                    lst[i],lst[i+1]=lst[i+1],lst[i]    \n",
    "    return lst\n",
    "\n",
    "print(bub_sort([7,9,4,3,6,5,1,0,6,8,4,6,3]))"
   ]
  },
  {
   "cell_type": "code",
   "execution_count": 46,
   "metadata": {},
   "outputs": [
    {
     "name": "stdout",
     "output_type": "stream",
     "text": [
      "18\n"
     ]
    }
   ],
   "source": [
    "# Question 9: Write a Python program to find the second largest number in a list.\n",
    "\n",
    "def second_largest(lst):\n",
    "    largest = lst[0]\n",
    "    second = lst[0]\n",
    "    for num in lst:\n",
    "        if num > largest:\n",
    "            second = largest\n",
    "            largest = num\n",
    "        elif num > second and num != largest:\n",
    "            second = num\n",
    "    return second\n",
    "\n",
    "print(second_largest([2,1,1,18,4,12,0,8,3,19]))"
   ]
  },
  {
   "cell_type": "code",
   "execution_count": 47,
   "metadata": {},
   "outputs": [
    {
     "name": "stdout",
     "output_type": "stream",
     "text": [
      "Using for loop:  [1, 3, 2, 4, 5]\n",
      "Using set:  [1, 2, 3, 4, 5]\n"
     ]
    }
   ],
   "source": [
    "# Question 10: Write a Python program to remove duplicates from a list.\n",
    "\n",
    "def remove_duplicates(lst):\n",
    "    cleaned = [lst[0]]\n",
    "    for i in lst:\n",
    "        if i not in cleaned:\n",
    "            cleaned.append(i)\n",
    "    return cleaned\n",
    "\n",
    "print('Using for loop: ',remove_duplicates([1,3,2,1,1,4,3,5,2]))\n",
    "\n",
    "# ==========================================================================\n",
    "# using set()\n",
    "\n",
    "def remove_dup_by_set(lst):\n",
    "    lst = list(set(lst))\n",
    "    return lst\n",
    "\n",
    "print('Using set: ',remove_dup_by_set([1,3,2,1,1,4,3,5,2]))"
   ]
  }
 ],
 "metadata": {
  "kernelspec": {
   "display_name": "Python 3",
   "language": "python",
   "name": "python3"
  },
  "language_info": {
   "codemirror_mode": {
    "name": "ipython",
    "version": 3
   },
   "file_extension": ".py",
   "mimetype": "text/x-python",
   "name": "python",
   "nbconvert_exporter": "python",
   "pygments_lexer": "ipython3",
   "version": "3.11.0"
  }
 },
 "nbformat": 4,
 "nbformat_minor": 2
}
