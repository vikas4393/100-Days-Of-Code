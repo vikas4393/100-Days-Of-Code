{
 "cells": [
  {
   "cell_type": "code",
   "execution_count": 1,
   "id": "f0a9eb43",
   "metadata": {},
   "outputs": [],
   "source": [
    "#Write a function that takes in two sorted lists and outputs a sorted list that is their union."
   ]
  },
  {
   "cell_type": "code",
   "execution_count": 13,
   "id": "87f637c2",
   "metadata": {},
   "outputs": [
    {
     "name": "stdout",
     "output_type": "stream",
     "text": [
      "[0, 1, 2, 3, 4, 5, 6, 7]\n"
     ]
    }
   ],
   "source": [
    "#using operator\n",
    "\n",
    "a = [1,2,3,4,4,5,6]\n",
    "b = [7,6,5,5,4,3,2,1,0]\n",
    "\n",
    "def union_list(lst1,lst2):\n",
    "    result = sorted(list(set(lst1) | (set(lst2))))\n",
    "    return result\n",
    "\n",
    "sorted_list = union_list(a,b)\n",
    "print(sorted_list)"
   ]
  },
  {
   "cell_type": "code",
   "execution_count": 14,
   "id": "89acaf1d",
   "metadata": {},
   "outputs": [
    {
     "name": "stdout",
     "output_type": "stream",
     "text": [
      "[0, 1, 2, 3, 4, 5, 6, 7]\n"
     ]
    }
   ],
   "source": [
    "#using union function\n",
    "\n",
    "a = [1,2,3,4,4,5,6]\n",
    "b = [7,6,5,5,4,3,2,1,0]\n",
    "\n",
    "def union_list(lst1,lst2):\n",
    "    result = set(lst1).union(set(lst2))\n",
    "    result = sorted(list(result))\n",
    "    return result\n",
    "\n",
    "sorted_list = union_list(a,b)\n",
    "print(sorted_list)"
   ]
  },
  {
   "cell_type": "code",
   "execution_count": 15,
   "id": "a2c2fe22",
   "metadata": {},
   "outputs": [
    {
     "name": "stdout",
     "output_type": "stream",
     "text": [
      "[0, 1, 1, 2, 2, 3, 3, 4, 4, 4, 5, 5, 5, 6, 6, 7]\n"
     ]
    }
   ],
   "source": [
    "#keeping the duplicates\n",
    "\n",
    "a = [1,2,3,4,4,5,6]\n",
    "b = [7,6,5,5,4,3,2,1,0]\n",
    "\n",
    "def add_list(lst1,lst2):\n",
    "    result = lst1 + lst2\n",
    "    result = sorted(list(result))\n",
    "    return result\n",
    "\n",
    "sorted_list = add_list(a,b)\n",
    "print(sorted_list)"
   ]
  },
  {
   "cell_type": "code",
   "execution_count": null,
   "id": "4c932d6d",
   "metadata": {},
   "outputs": [],
   "source": []
  }
 ],
 "metadata": {
  "kernelspec": {
   "display_name": "Python 3 (ipykernel)",
   "language": "python",
   "name": "python3"
  },
  "language_info": {
   "codemirror_mode": {
    "name": "ipython",
    "version": 3
   },
   "file_extension": ".py",
   "mimetype": "text/x-python",
   "name": "python",
   "nbconvert_exporter": "python",
   "pygments_lexer": "ipython3",
   "version": "3.11.5"
  }
 },
 "nbformat": 4,
 "nbformat_minor": 5
}
